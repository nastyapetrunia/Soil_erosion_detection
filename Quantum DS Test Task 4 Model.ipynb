{
 "cells": [
  {
   "cell_type": "code",
   "execution_count": 29,
   "metadata": {
    "executionInfo": {
     "elapsed": 6,
     "status": "ok",
     "timestamp": 1678901016570,
     "user": {
      "displayName": "Anastasia Petrunia",
      "userId": "05569351424153302321"
     },
     "user_tz": -120
    },
    "id": "v2P-xPquImu1"
   },
   "outputs": [],
   "source": [
    "from tensorflow import keras\n",
    "from tensorflow.keras import layers\n",
    "import matplotlib.pyplot as plt\n",
    "import tensorflow as tf\n",
    "import numpy as np\n",
    "import pandas as pd\n",
    "import cv2\n",
    "import os\n",
    "from IPython.display import clear_output"
   ]
  },
  {
   "cell_type": "code",
   "execution_count": 2,
   "metadata": {
    "colab": {
     "base_uri": "https://localhost:8080/"
    },
    "executionInfo": {
     "elapsed": 28163,
     "status": "ok",
     "timestamp": 1678900083652,
     "user": {
      "displayName": "Anastasia Petrunia",
      "userId": "05569351424153302321"
     },
     "user_tz": -120
    },
    "id": "hkncr_PwIq9O",
    "outputId": "bf641c97-2091-4945-bc38-83e2d428afd4"
   },
   "outputs": [
    {
     "name": "stdout",
     "output_type": "stream",
     "text": [
      "Mounted at /content/drive\n"
     ]
    }
   ],
   "source": [
    "from google.colab import drive\n",
    "drive.mount('/content/drive')"
   ]
  },
  {
   "cell_type": "code",
   "execution_count": 3,
   "metadata": {
    "executionInfo": {
     "elapsed": 23768,
     "status": "ok",
     "timestamp": 1678900107417,
     "user": {
      "displayName": "Anastasia Petrunia",
      "userId": "05569351424153302321"
     },
     "user_tz": -120
    },
    "id": "sFAHrx0xI_M-"
   },
   "outputs": [],
   "source": [
    "X_dir = '/content/drive/MyDrive/Quantum DS Test Task 4/cropped_data/cropped_raster'\n",
    "y_dir = '/content/drive/MyDrive/Quantum DS Test Task 4/cropped_data/cropped_mask'\n",
    "df = pd.read_csv('/content/drive/MyDrive/Quantum DS Test Task 4/cropped_data/cropped_mask/files_that_have_erosion.csv')\n",
    "X_file_names = os.listdir(X_dir)[2:]\n",
    "y_file_names = os.listdir(y_dir)[1:]"
   ]
  },
  {
   "cell_type": "code",
   "execution_count": 4,
   "metadata": {
    "executionInfo": {
     "elapsed": 24,
     "status": "ok",
     "timestamp": 1678900107418,
     "user": {
      "displayName": "Anastasia Petrunia",
      "userId": "05569351424153302321"
     },
     "user_tz": -120
    },
    "id": "bRxJR2aVKKmX"
   },
   "outputs": [],
   "source": [
    "df['masked'] = df['masked'].str[5:10]"
   ]
  },
  {
   "cell_type": "code",
   "execution_count": 5,
   "metadata": {
    "executionInfo": {
     "elapsed": 23,
     "status": "ok",
     "timestamp": 1678900107418,
     "user": {
      "displayName": "Anastasia Petrunia",
      "userId": "05569351424153302321"
     },
     "user_tz": -120
    },
    "id": "bfqpfCBMNbFa"
   },
   "outputs": [],
   "source": [
    "file_nums = df['masked'].to_list()"
   ]
  },
  {
   "cell_type": "code",
   "execution_count": 6,
   "metadata": {
    "colab": {
     "base_uri": "https://localhost:8080/"
    },
    "executionInfo": {
     "elapsed": 23,
     "status": "ok",
     "timestamp": 1678900107418,
     "user": {
      "displayName": "Anastasia Petrunia",
      "userId": "05569351424153302321"
     },
     "user_tz": -120
    },
    "id": "rAhmJd0HuMrN",
    "outputId": "da8802d3-c903-4948-f302-891b1265bf34"
   },
   "outputs": [
    {
     "data": {
      "text/plain": [
       "369"
      ]
     },
     "execution_count": 6,
     "metadata": {},
     "output_type": "execute_result"
    }
   ],
   "source": [
    "len(file_nums)"
   ]
  },
  {
   "cell_type": "code",
   "execution_count": 7,
   "metadata": {
    "executionInfo": {
     "elapsed": 22,
     "status": "ok",
     "timestamp": 1678900107419,
     "user": {
      "displayName": "Anastasia Petrunia",
      "userId": "05569351424153302321"
     },
     "user_tz": -120
    },
    "id": "w9s_stTJKhsG"
   },
   "outputs": [],
   "source": [
    "def get_xy_data(mask_or_raster, file_nums, dir):\n",
    "  xy = []\n",
    "  num_files = len(file_nums)\n",
    "  for file_num in file_nums:\n",
    "    clear_output(wait=True)\n",
    "    print('Processed %.2f%% of %s data' %(((file_nums.index(file_num)+1)/num_files*100), mask_or_raster))\n",
    "    img_array = cv2.imread(dir + '/' + mask_or_raster+'_'+file_num+'.png')\n",
    "    img_array = cv2.resize(img_array, (128,128), interpolation = cv2.INTER_AREA)\n",
    "    xy.append(img_array)\n",
    "  return xy"
   ]
  },
  {
   "cell_type": "code",
   "execution_count": 116,
   "metadata": {
    "colab": {
     "base_uri": "https://localhost:8080/"
    },
    "executionInfo": {
     "elapsed": 5703,
     "status": "ok",
     "timestamp": 1678902901227,
     "user": {
      "displayName": "Anastasia Petrunia",
      "userId": "05569351424153302321"
     },
     "user_tz": -120
    },
    "id": "oo8EmSmeLTh-",
    "outputId": "7330f7cb-f8c0-4591-8912-f9bc01ad8603"
   },
   "outputs": [
    {
     "name": "stdout",
     "output_type": "stream",
     "text": [
      "Processed 100.00% of mask data\n"
     ]
    }
   ],
   "source": [
    "X = get_xy_data('raster', file_nums, X_dir)\n",
    "y = get_xy_data('mask', file_nums, y_dir)"
   ]
  },
  {
   "cell_type": "code",
   "execution_count": 117,
   "metadata": {
    "executionInfo": {
     "elapsed": 1050,
     "status": "ok",
     "timestamp": 1678902957161,
     "user": {
      "displayName": "Anastasia Petrunia",
      "userId": "05569351424153302321"
     },
     "user_tz": -120
    },
    "id": "qUZoEqXTPiBy"
   },
   "outputs": [],
   "source": [
    "X = np.array(X)\n",
    "y = np.array(y)"
   ]
  },
  {
   "cell_type": "code",
   "execution_count": 120,
   "metadata": {
    "executionInfo": {
     "elapsed": 12,
     "status": "ok",
     "timestamp": 1678902982050,
     "user": {
      "displayName": "Anastasia Petrunia",
      "userId": "05569351424153302321"
     },
     "user_tz": -120
    },
    "id": "rec1ZxRVX-6H"
   },
   "outputs": [],
   "source": [
    "test_X = X[:37]/255\n",
    "test_y = y[:37]/255"
   ]
  },
  {
   "cell_type": "code",
   "execution_count": 122,
   "metadata": {
    "executionInfo": {
     "elapsed": 463,
     "status": "ok",
     "timestamp": 1678902994381,
     "user": {
      "displayName": "Anastasia Petrunia",
      "userId": "05569351424153302321"
     },
     "user_tz": -120
    },
    "id": "Oxbwca0mYLlT"
   },
   "outputs": [],
   "source": [
    "X = X[37:]/255\n",
    "y = y[37:]/255"
   ]
  },
  {
   "cell_type": "code",
   "execution_count": 98,
   "metadata": {
    "colab": {
     "base_uri": "https://localhost:8080/"
    },
    "executionInfo": {
     "elapsed": 3,
     "status": "ok",
     "timestamp": 1678902728164,
     "user": {
      "displayName": "Anastasia Petrunia",
      "userId": "05569351424153302321"
     },
     "user_tz": -120
    },
    "id": "K_F47VJ7U1pT",
    "outputId": "2fa92c3b-e09e-43c5-a170-330f3b8815da"
   },
   "outputs": [
    {
     "data": {
      "text/plain": [
       "295"
      ]
     },
     "execution_count": 98,
     "metadata": {},
     "output_type": "execute_result"
    }
   ],
   "source": [
    "len(y)"
   ]
  },
  {
   "cell_type": "code",
   "execution_count": 99,
   "metadata": {
    "colab": {
     "base_uri": "https://localhost:8080/"
    },
    "executionInfo": {
     "elapsed": 8,
     "status": "ok",
     "timestamp": 1678902730411,
     "user": {
      "displayName": "Anastasia Petrunia",
      "userId": "05569351424153302321"
     },
     "user_tz": -120
    },
    "id": "CdtPw7A7_G47",
    "outputId": "d6eb5ad5-9cc9-4302-9af0-b476f7467258"
   },
   "outputs": [
    {
     "data": {
      "text/plain": [
       "(128, 128, 3)"
      ]
     },
     "execution_count": 99,
     "metadata": {},
     "output_type": "execute_result"
    }
   ],
   "source": [
    "X[0].shape"
   ]
  },
  {
   "cell_type": "code",
   "execution_count": 123,
   "metadata": {
    "executionInfo": {
     "elapsed": 458,
     "status": "ok",
     "timestamp": 1678903006991,
     "user": {
      "displayName": "Anastasia Petrunia",
      "userId": "05569351424153302321"
     },
     "user_tz": -120
    },
    "id": "4l7l0AyyUZy7"
   },
   "outputs": [],
   "source": [
    "dataset = tf.data.Dataset.from_tensor_slices((X, y))"
   ]
  },
  {
   "cell_type": "code",
   "execution_count": 101,
   "metadata": {
    "executionInfo": {
     "elapsed": 3,
     "status": "ok",
     "timestamp": 1678902733716,
     "user": {
      "displayName": "Anastasia Petrunia",
      "userId": "05569351424153302321"
     },
     "user_tz": -120
    },
    "id": "3DkC7jd7UjzE"
   },
   "outputs": [],
   "source": [
    "train_size = 295\n",
    "val_size = 37"
   ]
  },
  {
   "cell_type": "code",
   "execution_count": 124,
   "metadata": {
    "executionInfo": {
     "elapsed": 2,
     "status": "ok",
     "timestamp": 1678903013957,
     "user": {
      "displayName": "Anastasia Petrunia",
      "userId": "05569351424153302321"
     },
     "user_tz": -120
    },
    "id": "q8OvFQfiUeHm"
   },
   "outputs": [],
   "source": [
    "train_ds = dataset.take(train_size)    \n",
    "val_ds = dataset.skip(train_size).take(val_size)"
   ]
  },
  {
   "cell_type": "code",
   "execution_count": 125,
   "metadata": {
    "executionInfo": {
     "elapsed": 597,
     "status": "ok",
     "timestamp": 1678903015496,
     "user": {
      "displayName": "Anastasia Petrunia",
      "userId": "05569351424153302321"
     },
     "user_tz": -120
    },
    "id": "zFzC1JQRQF63"
   },
   "outputs": [],
   "source": [
    "BATCH_SIZE = 10\n",
    "# SHUFFLE_BUFFER_SIZE = 100\n",
    "train_dataset = train_ds.batch(BATCH_SIZE)\n",
    "validation_dataset = val_ds.batch(BATCH_SIZE)"
   ]
  },
  {
   "cell_type": "code",
   "execution_count": 104,
   "metadata": {
    "colab": {
     "base_uri": "https://localhost:8080/"
    },
    "executionInfo": {
     "elapsed": 13,
     "status": "ok",
     "timestamp": 1678902738367,
     "user": {
      "displayName": "Anastasia Petrunia",
      "userId": "05569351424153302321"
     },
     "user_tz": -120
    },
    "id": "SIUcD9mgVrXk",
    "outputId": "dc389313-b2be-4c15-92a7-8477cb54134c"
   },
   "outputs": [
    {
     "data": {
      "text/plain": [
       "<BatchDataset element_spec=(TensorSpec(shape=(None, 128, 128, 3), dtype=tf.float64, name=None), TensorSpec(shape=(None, 128, 128, 3), dtype=tf.float64, name=None))>"
      ]
     },
     "execution_count": 104,
     "metadata": {},
     "output_type": "execute_result"
    }
   ],
   "source": [
    "validation_dataset"
   ]
  },
  {
   "cell_type": "code",
   "execution_count": 105,
   "metadata": {
    "colab": {
     "base_uri": "https://localhost:8080/"
    },
    "executionInfo": {
     "elapsed": 8,
     "status": "ok",
     "timestamp": 1678902738368,
     "user": {
      "displayName": "Anastasia Petrunia",
      "userId": "05569351424153302321"
     },
     "user_tz": -120
    },
    "id": "PMWqPHlfFWbq",
    "outputId": "29ccb0aa-171b-4621-897c-83697c1e6237"
   },
   "outputs": [
    {
     "data": {
      "text/plain": [
       "<BatchDataset element_spec=(TensorSpec(shape=(None, 128, 128, 3), dtype=tf.float64, name=None), TensorSpec(shape=(None, 128, 128, 3), dtype=tf.float64, name=None))>"
      ]
     },
     "execution_count": 105,
     "metadata": {},
     "output_type": "execute_result"
    }
   ],
   "source": [
    "train_dataset"
   ]
  },
  {
   "cell_type": "code",
   "execution_count": 126,
   "metadata": {
    "executionInfo": {
     "elapsed": 646,
     "status": "ok",
     "timestamp": 1678903019923,
     "user": {
      "displayName": "Anastasia Petrunia",
      "userId": "05569351424153302321"
     },
     "user_tz": -120
    },
    "id": "ojnEYFwb6xbK"
   },
   "outputs": [],
   "source": [
    "in_shape=(128,128,3)\n",
    "model1=keras.Sequential(\n",
    "[\n",
    "    # resize_and_rescale,\n",
    "    layers.Conv2D(32,(3,3),activation=\"relu\",input_shape=in_shape,padding='same'),\n",
    "    layers.Dropout(0.1),\n",
    "    layers.Conv2D(32,(3,3),activation=\"relu\",input_shape=in_shape,padding='same'),\n",
    "    layers.MaxPooling2D((2,2)),\n",
    "    \n",
    "\n",
    "    layers.Conv2D(64,  kernel_size = (3,3), activation='relu',padding='same'),\n",
    "    layers.Dropout(0.1),\n",
    "    layers.Conv2D(64,(3,3),activation=\"relu\",input_shape=in_shape,padding='same'),\n",
    "    layers.MaxPooling2D((2, 2)),\n",
    " \n",
    "\n",
    "    layers.Conv2D(128,  kernel_size = (3,3), activation='relu',padding='same'),\n",
    "    layers.Dropout(0.1),\n",
    "    layers.Conv2D(128,(3,3),activation=\"relu\",input_shape=in_shape,padding='same'),\n",
    "    layers.MaxPooling2D((2, 2)),\n",
    "    layers.Conv2D(256,  kernel_size = (3,3), activation='relu',padding='same'),\n",
    "    layers.MaxPooling2D((2, 2)),\n",
    " \n",
    "    layers.Conv2DTranspose(128, (2, 2), strides=(2, 2), padding='same'),\n",
    "    layers.Conv2D(128, (3, 3), activation='relu', kernel_initializer='he_normal', padding='same'),\n",
    "    layers.Dropout(0.2),\n",
    "    layers.Conv2D(128, (3, 3), activation='relu', kernel_initializer='he_normal', padding='same'),\n",
    "\n",
    "    layers.Conv2DTranspose(64, (2, 2), strides=(2, 2), padding='same'),\n",
    "    layers.Conv2D(64, (3, 3), activation='relu', kernel_initializer='he_normal', padding='same'),\n",
    "    layers.Dropout(0.2),\n",
    "    layers.Conv2D(64, (3, 3), activation='relu', kernel_initializer='he_normal', padding='same'),\n",
    " \n",
    "    layers.Conv2DTranspose(32, (2, 2), strides=(2, 2), padding='same'),\n",
    "    layers.Conv2D(32, (3, 3), activation='relu', kernel_initializer='he_normal', padding='same'),\n",
    "    layers.Dropout(0.2),\n",
    "    layers.Conv2D(32, (3, 3), activation='relu', kernel_initializer='he_normal', padding='same'),\n",
    "\n",
    "    layers.Conv2DTranspose(16, (2, 2), strides=(2, 2), padding='same'),\n",
    "    layers.Conv2D(16, (3, 3), activation='relu', kernel_initializer='he_normal', padding='same'),\n",
    "    layers.Dropout(0.2),\n",
    "    layers.Conv2D(16, (3, 3), activation='relu', kernel_initializer='he_normal', padding='same'),\n",
    "\n",
    "\n",
    "    layers.Conv2D(3, (1, 1), activation='linear')\n",
    "     \n",
    "]\n",
    ")\n",
    "model1.build(input_shape=in_shape)\n",
    "\n",
    "model1.compile(\n",
    "    optimizer= keras.optimizers.Adam(learning_rate=0.007),\n",
    "    #'adam',\n",
    "    loss=tf.keras.losses.CategoricalCrossentropy(from_logits=False),\n",
    "    metrics=['accuracy']\n",
    ")"
   ]
  },
  {
   "cell_type": "code",
   "execution_count": 127,
   "metadata": {
    "colab": {
     "base_uri": "https://localhost:8080/"
    },
    "executionInfo": {
     "elapsed": 20048,
     "status": "ok",
     "timestamp": 1678903043907,
     "user": {
      "displayName": "Anastasia Petrunia",
      "userId": "05569351424153302321"
     },
     "user_tz": -120
    },
    "id": "r_9pt2uKAva4",
    "outputId": "4b1d839d-30d1-43eb-8e3b-4b77a58798c5"
   },
   "outputs": [
    {
     "name": "stdout",
     "output_type": "stream",
     "text": [
      "Epoch 1/10\n",
      "30/30 [==============================] - 9s 53ms/step - loss: 0.0933 - accuracy: 0.3302 - val_loss: 0.0805 - val_accuracy: 0.1262\n",
      "Epoch 2/10\n",
      "30/30 [==============================] - 1s 38ms/step - loss: 0.0801 - accuracy: 0.2970 - val_loss: 0.0805 - val_accuracy: 0.4657\n",
      "Epoch 3/10\n",
      "30/30 [==============================] - 1s 38ms/step - loss: 0.0801 - accuracy: 0.2782 - val_loss: 0.0805 - val_accuracy: 0.4709\n",
      "Epoch 4/10\n",
      "30/30 [==============================] - 1s 37ms/step - loss: 0.0800 - accuracy: 0.2880 - val_loss: 0.0805 - val_accuracy: 0.6116\n",
      "Epoch 5/10\n",
      "30/30 [==============================] - 1s 38ms/step - loss: 0.0800 - accuracy: 0.2862 - val_loss: 0.0805 - val_accuracy: 0.6978\n",
      "Epoch 6/10\n",
      "30/30 [==============================] - 1s 37ms/step - loss: 0.0800 - accuracy: 0.2867 - val_loss: 0.0805 - val_accuracy: 0.7038\n",
      "Epoch 7/10\n",
      "30/30 [==============================] - 1s 38ms/step - loss: 0.0800 - accuracy: 0.2898 - val_loss: 0.0805 - val_accuracy: 0.7212\n",
      "Epoch 8/10\n",
      "30/30 [==============================] - 1s 41ms/step - loss: 0.0800 - accuracy: 0.2913 - val_loss: 0.0805 - val_accuracy: 0.7140\n",
      "Epoch 9/10\n",
      "30/30 [==============================] - 1s 41ms/step - loss: 0.0800 - accuracy: 0.2924 - val_loss: 0.0805 - val_accuracy: 0.7385\n",
      "Epoch 10/10\n",
      "30/30 [==============================] - 1s 38ms/step - loss: 0.0800 - accuracy: 0.2908 - val_loss: 0.0805 - val_accuracy: 0.7433\n"
     ]
    }
   ],
   "source": [
    "history = model1.fit(train_dataset, validation_data=validation_dataset, epochs=10)"
   ]
  },
  {
   "cell_type": "code",
   "execution_count": 128,
   "metadata": {
    "colab": {
     "base_uri": "https://localhost:8080/",
     "height": 295
    },
    "executionInfo": {
     "elapsed": 503,
     "status": "ok",
     "timestamp": 1678903054486,
     "user": {
      "displayName": "Anastasia Petrunia",
      "userId": "05569351424153302321"
     },
     "user_tz": -120
    },
    "id": "xUQobWdsKMQr",
    "outputId": "3670c6f8-cfa0-45bf-ba46-9f90dc019edf"
   },
   "outputs": [
    {
     "data": {
      "image/png": "[encoded data removed]",
      "text/plain": [
       "<Figure size 432x288 with 1 Axes>"
      ]
     },
     "metadata": {
      "needs_background": "light"
     },
     "output_type": "display_data"
    }
   ],
   "source": [
    "plt.plot(history.history['accuracy'])\n",
    "plt.plot(history.history['val_accuracy'])\n",
    "plt.title('model accuracy')\n",
    "plt.ylabel('accuracy')\n",
    "plt.xlabel('epoch')\n",
    "plt.legend(['train', 'test'], loc='upper left')\n",
    "plt.show()"
   ]
  },
  {
   "cell_type": "code",
   "execution_count": 129,
   "metadata": {
    "colab": {
     "base_uri": "https://localhost:8080/",
     "height": 295
    },
    "executionInfo": {
     "elapsed": 14,
     "status": "ok",
     "timestamp": 1678903060359,
     "user": {
      "displayName": "Anastasia Petrunia",
      "userId": "05569351424153302321"
     },
     "user_tz": -120
    },
    "id": "_NVd4jrcTIVs",
    "outputId": "b0df0166-70f1-41e4-e31b-55d37fbb2e37"
   },
   "outputs": [
    {
     "data": {
      "image/png": "[encoded data removed]",
      "text/plain": [
       "<Figure size 432x288 with 1 Axes>"
      ]
     },
     "metadata": {
      "needs_background": "light"
     },
     "output_type": "display_data"
    }
   ],
   "source": [
    "plt.plot(history.history['loss'])\n",
    "plt.plot(history.history['val_loss'])\n",
    "plt.title('model loss')\n",
    "plt.ylabel('loss')\n",
    "plt.xlabel('epoch')\n",
    "plt.legend(['train', 'test'], loc='upper left')\n",
    "plt.show()"
   ]
  },
  {
   "cell_type": "code",
   "execution_count": 151,
   "metadata": {
    "executionInfo": {
     "elapsed": 4,
     "status": "ok",
     "timestamp": 1678903870559,
     "user": {
      "displayName": "Anastasia Petrunia",
      "userId": "05569351424153302321"
     },
     "user_tz": -120
    },
    "id": "umA6JsQCWnMC"
   },
   "outputs": [],
   "source": [
    "score = model1.evaluate(test_X, test_y, verbose = 0) "
   ]
  },
  {
   "cell_type": "code",
   "execution_count": 152,
   "metadata": {
    "colab": {
     "base_uri": "https://localhost:8080/"
    },
    "executionInfo": {
     "elapsed": 3,
     "status": "ok",
     "timestamp": 1678903870559,
     "user": {
      "displayName": "Anastasia Petrunia",
      "userId": "05569351424153302321"
     },
     "user_tz": -120
    },
    "id": "quKfd00jXGxp",
    "outputId": "a0a3bcbd-eb26-4da0-b2d5-a6f2068c6cec"
   },
   "outputs": [
    {
     "data": {
      "text/plain": [
       "[0.09849080443382263, 0.7453959584236145]"
      ]
     },
     "execution_count": 152,
     "metadata": {},
     "output_type": "execute_result"
    }
   ],
   "source": [
    "score"
   ]
  }
 ],
 "metadata": {
  "accelerator": "GPU",
  "colab": {
   "authorship_tag": "ABX9TyN7cYq5nOoWlcQHoZTBSfhr",
   "provenance": []
  },
  "gpuClass": "standard",
  "kernelspec": {
   "display_name": "Python 3 (ipykernel)",
   "language": "python",
   "name": "python3"
  },
  "language_info": {
   "codemirror_mode": {
    "name": "ipython",
    "version": 3
   },
   "file_extension": ".py",
   "mimetype": "text/x-python",
   "name": "python",
   "nbconvert_exporter": "python",
   "pygments_lexer": "ipython3",
   "version": "3.9.12"
  }
 },
 "nbformat": 4,
 "nbformat_minor": 1
}
